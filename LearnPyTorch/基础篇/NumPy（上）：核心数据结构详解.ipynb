{
 "cells": [
  {
   "cell_type": "markdown",
   "id": "761b7d06",
   "metadata": {},
   "source": [
    "摘录于极客时间-PyTorch 深度学习实战专栏\n",
    "\n",
    "\n",
    "https://time.geekbang.org/column/article/426126"
   ]
  },
  {
   "cell_type": "markdown",
   "id": "42eeaf0c",
   "metadata": {},
   "source": [
    "# 1 Numpy 介绍\n",
    "\n",
    "在 NumPy 中，数组是由 numpy.ndarray 类来实现的，它是 NumPy 的核心数据结构。\n",
    "\n",
    "我们今天的内容就是围绕它进行展开的。学习一个新知识，我们常用的方法就是跟熟悉的东西做对比。\n",
    "\n",
    "NumPy 数组从逻辑上来看，与其他编程语言中的数组是一样的，索引也是从 0 开始。而 Python 中的列表，其实也可以达到与 NumPy 数组相同的功能，但它们又有差异，做个对比你就能体会到 NumPy 数组的特点了。\n",
    "\n",
    "- 1.Python 中的列表可以动态地改变，而 NumPy 数组是不可以的，它在创建时就有固定大小了。改变 Numpy 数组长度的话，会新创建一个新的数组并且删除原数组。\n",
    "- 2.NumPy 数组中的数据类型必须是一样的，而列表中的元素可以是多样的。\n",
    "- 3.NumPy 针对 NumPy 数组一系列的运算进行了优化，使得其速度特别快，并且相对于 Python 中的列表，同等操作只需使用更少的内存。"
   ]
  },
  {
   "cell_type": "markdown",
   "id": "53f10b54",
   "metadata": {},
   "source": [
    "# 2 创建数组\n",
    "那就让我们来看看 NumPy 数组是怎么创建的吧？最简单的方法就是把一个列表传入到 **np.array()** 或 **np.asarray()** 中，\n",
    "\n",
    "这个列表可以是任意维度的。\n",
    "\n",
    "- np.array() 属于深拷贝，\n",
    "\n",
    "- np.asarray() 则是浅拷贝，\n",
    "\n",
    "它们的区别我们下节课再细讲，这里你有个印象就行。我们可以先试着创建一个一维的数组，代码如下。"
   ]
  },
  {
   "cell_type": "code",
   "execution_count": 3,
   "id": "df1fbf63",
   "metadata": {},
   "outputs": [
    {
     "name": "stdout",
     "output_type": "stream",
     "text": [
      "[1]\n"
     ]
    }
   ],
   "source": [
    "import numpy as np\n",
    "\n",
    "arr_1_d = np.asarray([1])\n",
    "\n",
    "print(arr_1_d)"
   ]
  },
  {
   "cell_type": "code",
   "execution_count": 4,
   "id": "72de842b",
   "metadata": {},
   "outputs": [
    {
     "name": "stdout",
     "output_type": "stream",
     "text": [
      "[[1 2]\n",
      " [3 4]]\n"
     ]
    }
   ],
   "source": [
    "# 创建一个二维数组\n",
    "arr_2_d = np.asarray([[1,2],[3,4]])\n",
    "print(arr_2_d)"
   ]
  },
  {
   "cell_type": "markdown",
   "id": "c1b62bf6",
   "metadata": {},
   "source": [
    "# 3 数组的属性\n",
    "\n",
    "作为一个数组，NumPy 有一些固有的属性，我们今天来介绍非常常用且关键的数组维度、形状、size 与数据类型。\n",
    "\n"
   ]
  },
  {
   "cell_type": "markdown",
   "id": "54aed832",
   "metadata": {},
   "source": [
    "## 3-1 ndim\n",
    "\n",
    "ndim 表示数组维度（或轴）的个数。刚才创建的数组 arr_1_d 的轴的个数就是 1，arr_2_d 的轴的个数就是 2。"
   ]
  },
  {
   "cell_type": "code",
   "execution_count": null,
   "id": "3c7e2a14",
   "metadata": {},
   "outputs": [],
   "source": []
  }
 ],
 "metadata": {
  "kernelspec": {
   "display_name": "Python 3 (ipykernel)",
   "language": "python",
   "name": "python3"
  },
  "language_info": {
   "codemirror_mode": {
    "name": "ipython",
    "version": 3
   },
   "file_extension": ".py",
   "mimetype": "text/x-python",
   "name": "python",
   "nbconvert_exporter": "python",
   "pygments_lexer": "ipython3",
   "version": "3.9.10"
  }
 },
 "nbformat": 4,
 "nbformat_minor": 5
}
