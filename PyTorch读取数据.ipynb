{
 "cells": [
  {
   "cell_type": "code",
   "execution_count": 1,
   "id": "6dc76bd1",
   "metadata": {},
   "outputs": [
    {
     "name": "stdout",
     "output_type": "stream",
     "text": [
      "Help on class Dataset in module torch.utils.data.dataset:\n",
      "\n",
      "class Dataset(typing.Generic)\n",
      " |  An abstract class representing a :class:`Dataset`.\n",
      " |  \n",
      " |  All datasets that represent a map from keys to data samples should subclass\n",
      " |  it. All subclasses should overwrite :meth:`__getitem__`, supporting fetching a\n",
      " |  data sample for a given key. Subclasses could also optionally overwrite\n",
      " |  :meth:`__len__`, which is expected to return the size of the dataset by many\n",
      " |  :class:`~torch.utils.data.Sampler` implementations and the default options\n",
      " |  of :class:`~torch.utils.data.DataLoader`.\n",
      " |  \n",
      " |  .. note::\n",
      " |    :class:`~torch.utils.data.DataLoader` by default constructs a index\n",
      " |    sampler that yields integral indices.  To make it work with a map-style\n",
      " |    dataset with non-integral indices/keys, a custom sampler must be provided.\n",
      " |  \n",
      " |  Method resolution order:\n",
      " |      Dataset\n",
      " |      typing.Generic\n",
      " |      builtins.object\n",
      " |  \n",
      " |  Methods defined here:\n",
      " |  \n",
      " |  __add__(self, other: 'Dataset[T_co]') -> 'ConcatDataset[T_co]'\n",
      " |  \n",
      " |  __getitem__(self, index) -> +T_co\n",
      " |  \n",
      " |  ----------------------------------------------------------------------\n",
      " |  Data descriptors defined here:\n",
      " |  \n",
      " |  __dict__\n",
      " |      dictionary for instance variables (if defined)\n",
      " |  \n",
      " |  __weakref__\n",
      " |      list of weak references to the object (if defined)\n",
      " |  \n",
      " |  ----------------------------------------------------------------------\n",
      " |  Data and other attributes defined here:\n",
      " |  \n",
      " |  __orig_bases__ = (typing.Generic[+T_co],)\n",
      " |  \n",
      " |  __parameters__ = (+T_co,)\n",
      " |  \n",
      " |  ----------------------------------------------------------------------\n",
      " |  Class methods inherited from typing.Generic:\n",
      " |  \n",
      " |  __class_getitem__(params) from builtins.type\n",
      " |  \n",
      " |  __init_subclass__(*args, **kwargs) from builtins.type\n",
      " |      This method is called when a class is subclassed.\n",
      " |      \n",
      " |      The default implementation does nothing. It may be\n",
      " |      overridden to extend subclasses.\n",
      "\n"
     ]
    }
   ],
   "source": [
    "##\n",
    "import torch\n",
    "from torch.utils.data import Dataset\n",
    "help(Dataset)\n",
    "class MyDataset(Dataset):\n",
    "    # 构造函数\n",
    "    def __init__(self, data_tensor, target_tensor):\n",
    "        self.data_tensor = data_tensor\n",
    "        self.target_tensor = target_tensor\n",
    "    # 返回数据集大小\n",
    "    def __len__(self):\n",
    "        return self.data_tensor.size(0)\n",
    "    # 返回索引的数据与标签\n",
    "    def __getitem__(self, index):\n",
    "        return self.data_tensor[index], self.target_tensor[index]"
   ]
  },
  {
   "cell_type": "code",
   "execution_count": 2,
   "id": "6fbea2e5",
   "metadata": {},
   "outputs": [],
   "source": [
    "Dataset??"
   ]
  },
  {
   "cell_type": "code",
   "execution_count": 3,
   "id": "8b827659",
   "metadata": {},
   "outputs": [
    {
     "name": "stdout",
     "output_type": "stream",
     "text": [
      "tensor([[-1.0744, -0.6722,  0.7930],\n",
      "        [ 0.6547,  1.0699, -0.2508],\n",
      "        [-1.1732,  0.3434,  1.2260],\n",
      "        [-1.0856, -1.1031,  0.4689],\n",
      "        [-0.4403, -1.1497, -0.2286],\n",
      "        [ 0.1182,  0.3150, -0.4138],\n",
      "        [-2.1027,  1.5216, -1.8243],\n",
      "        [-0.1909,  1.1578,  0.0276],\n",
      "        [-0.5883, -1.0077, -1.0088],\n",
      "        [ 0.3126,  1.1999, -0.4394]])\n",
      "tensor([0, 1, 1, 0, 1, 1, 1, 0, 0, 1])\n",
      "Dataset size: 10\n",
      "tensor_data[0]:  (tensor([-1.0744, -0.6722,  0.7930]), tensor(0))\n"
     ]
    },
    {
     "data": {
      "text/plain": [
       "'\\n输出:\\ntensor_data[0]:  (tensor([ 0.4931, -0.0697,  0.4171]), tensor(0))\\n'"
      ]
     },
     "execution_count": 3,
     "metadata": {},
     "output_type": "execute_result"
    }
   ],
   "source": [
    "\n",
    "# 生成数据\n",
    "data_tensor = torch.randn(10, 3)\n",
    "target_tensor = torch.randint(2, (10,)) # 标签是0或1\n",
    "print(data_tensor)\n",
    "\n",
    "print(target_tensor)\n",
    "\n",
    "# 将数据封装成Dataset\n",
    "my_dataset = MyDataset(data_tensor, target_tensor)\n",
    "\n",
    "# 查看数据集大小\n",
    "print('Dataset size:', len(my_dataset))\n",
    "'''\n",
    "输出：\n",
    "Dataset size: 10\n",
    "'''\n",
    "\n",
    "# 使用索引调用数据\n",
    "print('tensor_data[0]: ', my_dataset[0])\n",
    "'''\n",
    "输出:\n",
    "tensor_data[0]:  (tensor([ 0.4931, -0.0697,  0.4171]), tensor(0))\n",
    "'''"
   ]
  },
  {
   "cell_type": "code",
   "execution_count": 4,
   "id": "4cb310e6",
   "metadata": {},
   "outputs": [
    {
     "name": "stdout",
     "output_type": "stream",
     "text": [
      "tensor([[ 0.1182,  0.3150, -0.4138],\n",
      "        [-0.5883, -1.0077, -1.0088]]) tensor([1, 0])\n",
      "tensor([[ 0.6547,  1.0699, -0.2508],\n",
      "        [-1.1732,  0.3434,  1.2260]]) tensor([1, 1])\n",
      "tensor([[ 0.3126,  1.1999, -0.4394],\n",
      "        [-0.1909,  1.1578,  0.0276]]) tensor([1, 0])\n",
      "tensor([[-1.0856, -1.1031,  0.4689],\n",
      "        [-1.0744, -0.6722,  0.7930]]) tensor([0, 0])\n",
      "tensor([[-0.4403, -1.1497, -0.2286],\n",
      "        [-2.1027,  1.5216, -1.8243]]) tensor([1, 1])\n",
      "One batch tensor data:  [tensor([[-1.0744, -0.6722,  0.7930],\n",
      "        [-2.1027,  1.5216, -1.8243]]), tensor([0, 1])]\n"
     ]
    },
    {
     "data": {
      "text/plain": [
       "'\\n输出:\\nOne batch tensor data:  [tensor([[ 0.9451, -0.4923, -1.8178],\\n        [-0.4046, -0.5436, -1.7911]]), tensor([0, 0])]\\n'"
      ]
     },
     "execution_count": 4,
     "metadata": {},
     "output_type": "execute_result"
    }
   ],
   "source": [
    "\n",
    "from torch.utils.data import DataLoader\n",
    "tensor_dataloader = DataLoader(dataset=my_dataset, # 传入的数据集, 必须参数\n",
    "                               batch_size=2,       # 输出的batch大小\n",
    "                               shuffle=True,       # 数据是否打乱\n",
    "                               num_workers=0)      # 进程数, 0表示只有主进程\n",
    "\n",
    "# 以循环形式输出\n",
    "for data, target in tensor_dataloader: \n",
    "    print(data, target)\n",
    "'''\n",
    "输出:\n",
    "tensor([[-0.1781, -1.1019, -0.1507],\n",
    "        [-0.6170,  0.2366,  0.1006]]) tensor([0, 0])\n",
    "tensor([[ 0.9451, -0.4923, -1.8178],\n",
    "        [-0.4046, -0.5436, -1.7911]]) tensor([0, 0])\n",
    "tensor([[-0.4561, -1.2480, -0.3051],\n",
    "        [-0.9738,  0.9465,  0.4812]]) tensor([1, 0])\n",
    "tensor([[ 0.0260,  1.5276,  0.1687],\n",
    "        [ 1.3692, -0.0170, -1.6831]]) tensor([1, 0])\n",
    "tensor([[ 0.0515, -0.8892, -0.1699],\n",
    "        [ 0.4931, -0.0697,  0.4171]]) tensor([1, 0])\n",
    "'''\n",
    " \n",
    "# 输出一个batch\n",
    "print('One batch tensor data: ', iter(tensor_dataloader).next())\n",
    "'''\n",
    "输出:\n",
    "One batch tensor data:  [tensor([[ 0.9451, -0.4923, -1.8178],\n",
    "        [-0.4046, -0.5436, -1.7911]]), tensor([0, 0])]\n",
    "'''"
   ]
  },
  {
   "cell_type": "code",
   "execution_count": 5,
   "id": "8e3ad752",
   "metadata": {},
   "outputs": [
    {
     "name": "stdout",
     "output_type": "stream",
     "text": [
      "Downloading http://yann.lecun.com/exdb/mnist/train-images-idx3-ubyte.gz\n"
     ]
    },
    {
     "name": "stderr",
     "output_type": "stream",
     "text": [
      "2.5%"
     ]
    },
    {
     "name": "stdout",
     "output_type": "stream",
     "text": [
      "Downloading http://yann.lecun.com/exdb/mnist/train-images-idx3-ubyte.gz to ./data/MNIST/raw/train-images-idx3-ubyte.gz\n"
     ]
    },
    {
     "name": "stderr",
     "output_type": "stream",
     "text": [
      "31.0%IOPub message rate exceeded.\n",
      "The notebook server will temporarily stop sending output\n",
      "to the client in order to avoid crashing it.\n",
      "To change this limit, set the config variable\n",
      "`--NotebookApp.iopub_msg_rate_limit`.\n",
      "\n",
      "Current values:\n",
      "NotebookApp.iopub_msg_rate_limit=1000.0 (msgs/sec)\n",
      "NotebookApp.rate_limit_window=3.0 (secs)\n",
      "\n",
      "100.0%\n"
     ]
    },
    {
     "name": "stdout",
     "output_type": "stream",
     "text": [
      "Extracting ./data/MNIST/raw/train-images-idx3-ubyte.gz to ./data/MNIST/raw\n",
      "\n",
      "Downloading http://yann.lecun.com/exdb/mnist/train-labels-idx1-ubyte.gz\n",
      "Downloading http://yann.lecun.com/exdb/mnist/train-labels-idx1-ubyte.gz to ./data/MNIST/raw/train-labels-idx1-ubyte.gz\n"
     ]
    },
    {
     "name": "stderr",
     "output_type": "stream",
     "text": [
      "102.8%\n"
     ]
    },
    {
     "name": "stdout",
     "output_type": "stream",
     "text": [
      "Extracting ./data/MNIST/raw/train-labels-idx1-ubyte.gz to ./data/MNIST/raw\n",
      "\n",
      "Downloading http://yann.lecun.com/exdb/mnist/t10k-images-idx3-ubyte.gz\n",
      "Downloading http://yann.lecun.com/exdb/mnist/t10k-images-idx3-ubyte.gz to ./data/MNIST/raw/t10k-images-idx3-ubyte.gz\n"
     ]
    },
    {
     "name": "stderr",
     "output_type": "stream",
     "text": [
      "100.0%\n"
     ]
    },
    {
     "name": "stdout",
     "output_type": "stream",
     "text": [
      "Extracting ./data/MNIST/raw/t10k-images-idx3-ubyte.gz to ./data/MNIST/raw\n",
      "\n",
      "Downloading http://yann.lecun.com/exdb/mnist/t10k-labels-idx1-ubyte.gz\n",
      "Downloading http://yann.lecun.com/exdb/mnist/t10k-labels-idx1-ubyte.gz to ./data/MNIST/raw/t10k-labels-idx1-ubyte.gz\n"
     ]
    },
    {
     "name": "stderr",
     "output_type": "stream",
     "text": [
      "112.7%"
     ]
    },
    {
     "name": "stdout",
     "output_type": "stream",
     "text": [
      "Extracting ./data/MNIST/raw/t10k-labels-idx1-ubyte.gz to ./data/MNIST/raw\n",
      "\n"
     ]
    },
    {
     "name": "stderr",
     "output_type": "stream",
     "text": [
      "\n"
     ]
    }
   ],
   "source": [
    "## torchvision 使用\n",
    "\n",
    "# 以MNIST为例\n",
    "import torchvision\n",
    "mnist_dataset = torchvision.datasets.MNIST(root='./data',\n",
    "                                       train=True,\n",
    "                                       transform=None,\n",
    "                                       target_transform=None,\n",
    "                                       download=True)"
   ]
  },
  {
   "cell_type": "code",
   "execution_count": 6,
   "id": "8f67ad83",
   "metadata": {},
   "outputs": [
    {
     "name": "stderr",
     "output_type": "stream",
     "text": [
      "IOPub data rate exceeded.\n",
      "The notebook server will temporarily stop sending output\n",
      "to the client in order to avoid crashing it.\n",
      "To change this limit, set the config variable\n",
      "`--NotebookApp.iopub_data_rate_limit`.\n",
      "\n",
      "Current values:\n",
      "NotebookApp.iopub_data_rate_limit=1000000.0 (bytes/sec)\n",
      "NotebookApp.rate_limit_window=3.0 (secs)\n",
      "\n"
     ]
    }
   ],
   "source": [
    "\n",
    "mnist_dataset_list = list(mnist_dataset)\n",
    "print(mnist_dataset_list)"
   ]
  },
  {
   "cell_type": "code",
   "execution_count": 7,
   "id": "6fda9e29",
   "metadata": {},
   "outputs": [
    {
     "data": {
      "image/png": "[encoded data removed]",
      "text/plain": [
       "<PIL.Image.Image image mode=L size=28x28 at 0x1322309A0>"
      ]
     },
     "metadata": {},
     "output_type": "display_data"
    },
    {
     "name": "stdout",
     "output_type": "stream",
     "text": [
      "Image label is: 5\n"
     ]
    }
   ],
   "source": [
    "\n",
    "display(mnist_dataset_list[0][0])\n",
    "print(\"Image label is:\", mnist_dataset_list[0][1])"
   ]
  },
  {
   "cell_type": "code",
   "execution_count": null,
   "id": "c2590337",
   "metadata": {},
   "outputs": [],
   "source": []
  }
 ],
 "metadata": {
  "kernelspec": {
   "display_name": "Python 3 (ipykernel)",
   "language": "python",
   "name": "python3"
  },
  "language_info": {
   "codemirror_mode": {
    "name": "ipython",
    "version": 3
   },
   "file_extension": ".py",
   "mimetype": "text/x-python",
   "name": "python",
   "nbconvert_exporter": "python",
   "pygments_lexer": "ipython3",
   "version": "3.9.10"
  }
 },
 "nbformat": 4,
 "nbformat_minor": 5
}
