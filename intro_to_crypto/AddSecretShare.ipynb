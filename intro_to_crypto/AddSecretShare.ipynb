{
 "cells": [
  {
   "cell_type": "code",
   "execution_count": 1,
   "id": "ef833c53",
   "metadata": {},
   "outputs": [
    {
     "name": "stdout",
     "output_type": "stream",
     "text": [
      "500.123456789  encode as encode_x:  50012345678\n",
      "100.123456789  encode as encode_y:  10012345678\n",
      "enc_x:  [179290743582123151128794426245853498846, 6078580297230990495896704142779576080, 108604021595813105445754147441745015165]\n",
      "enc_y:  [253437321810807509073465662608336691570, 231577771600644288636397307185280097760, 102931597538882696431027585777127045174]\n",
      "enc_z:  (138754719917763413131814811073824446003, 237656351897875279132294011328059673840, 211535619134695801876781733218872060339)\n",
      "encode_z:  60024691356\n",
      "z:  600.24691356\n",
      "明文下运算： 600.246913578\n"
     ]
    }
   ],
   "source": [
    "import random\n",
    "import numpy as np\n",
    "\n",
    "BASE = 10;\n",
    "\n",
    "PRECISION_INTEGRAL = 8\n",
    "PRECISION_FRACTIONAL = 8\n",
    "Q = 293973345475167247070445277780365744413\n",
    "\n",
    "PRECISION = PRECISION_INTEGRAL + PRECISION_FRACTIONAL\n",
    "\n",
    "assert(Q > BASE ** PRECISION)\n",
    "\n",
    "def encode(rational):\n",
    "    upscaled = int(rational * BASE**PRECISION_FRACTIONAL)\n",
    "    field_element = upscaled % Q\n",
    "    return field_element\n",
    "\n",
    "def decode(field_element):\n",
    "    upscaled = field_element if field_element <= Q/2 else field_element - Q\n",
    "    rational = upscaled / BASE**PRECISION_FRACTIONAL\n",
    "    return rational\n",
    "\n",
    "def encrypt(secret):\n",
    "    first = random.randrange(Q)\n",
    "    second = random.randrange(Q)\n",
    "    third = (secret - first - second) % Q\n",
    "    return [first, second, third]\n",
    "\n",
    "def decrypt(sharing):\n",
    "    return sum(sharing) % Q\n",
    "\n",
    "def add(a, b):\n",
    "    c = list()\n",
    "    for i in range(len(a)):\n",
    "        c.append((a[i] + b[i]) % Q)\n",
    "    return tuple(c)\n",
    "\n",
    "if __name__ == '__main__':\n",
    "    x = 500.123456789\n",
    "    y = 100.123456789\n",
    "    encode_x = encode(x)\n",
    "    encode_y = encode(y)\n",
    "    print(x, \" encode as encode_x: \",encode_x)\n",
    "    print(y, \" encode as encode_y: \",encode_y)\n",
    "    enc_x = encrypt(encode_x)\n",
    "    enc_y = encrypt(encode_y)\n",
    "    print(\"enc_x: \", enc_x)\n",
    "    print(\"enc_y: \", enc_y)\n",
    "    enc_z = add(enc_x, enc_y)\n",
    "    print(\"enc_z: \", enc_z)\n",
    "    encode_z = decrypt(enc_z)\n",
    "    print(\"encode_z: \",encode_z)\n",
    "    z = decode(encode_z)\n",
    "    print(\"z: \",z)\n",
    "    print(\"明文下运算：\",x+y)"
   ]
  },
  {
   "cell_type": "code",
   "execution_count": 2,
   "id": "4cb58c8e",
   "metadata": {},
   "outputs": [
    {
     "name": "stdout",
     "output_type": "stream",
     "text": [
      "500.123456789  encode as encode_x:  50012345678\n",
      "100.123456789  encode as encode_y:  10012345678\n",
      "enc_x:  [174388414262912834593955715365063177502, 44615618528975012756999137551236485575, 74969312683279399719490424914078427014]\n",
      "enc_y:  [259080991336986635588526683663801713638, 78938274761309611239191779400865398695, 249927424852038247313172092506076722171]\n",
      "enc_z:  (139496060124732223112037121248499146727, 123553893290284623996190916952101884270, 30923392060150399962217239639789404772)\n",
      "encode_z:  60024691356\n",
      "z:  600.24691356\n",
      "明文下运算： 600.246913578\n"
     ]
    }
   ],
   "source": [
    "    x = 500.123456789\n",
    "    y = 100.123456789\n",
    "    encode_x = encode(x)\n",
    "    encode_y = encode(y)\n",
    "    print(x, \" encode as encode_x: \",encode_x)\n",
    "    print(y, \" encode as encode_y: \",encode_y)\n",
    "    enc_x = encrypt(encode_x)\n",
    "    enc_y = encrypt(encode_y)\n",
    "    print(\"enc_x: \", enc_x)\n",
    "    print(\"enc_y: \", enc_y)\n",
    "    enc_z = add(enc_x, enc_y)\n",
    "    print(\"enc_z: \", enc_z)\n",
    "    encode_z = decrypt(enc_z)\n",
    "    print(\"encode_z: \",encode_z)\n",
    "    z = decode(encode_z)\n",
    "    print(\"z: \",z)\n",
    "    print(\"明文下运算：\",x+y)"
   ]
  },
  {
   "cell_type": "code",
   "execution_count": null,
   "id": "fc38eec7",
   "metadata": {},
   "outputs": [],
   "source": []
  }
 ],
 "metadata": {
  "kernelspec": {
   "display_name": "Python 3 (ipykernel)",
   "language": "python",
   "name": "python3"
  },
  "language_info": {
   "codemirror_mode": {
    "name": "ipython",
    "version": 3
   },
   "file_extension": ".py",
   "mimetype": "text/x-python",
   "name": "python",
   "nbconvert_exporter": "python",
   "pygments_lexer": "ipython3",
   "version": "3.7.11"
  }
 },
 "nbformat": 4,
 "nbformat_minor": 5
}
